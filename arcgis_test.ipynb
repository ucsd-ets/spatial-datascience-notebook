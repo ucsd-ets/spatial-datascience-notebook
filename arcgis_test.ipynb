{
 "cells": [
  {
   "cell_type": "code",
   "execution_count": 1,
   "metadata": {},
   "outputs": [],
   "source": [
    "import widgetsnbextension\n",
    "import ipywidgets\n",
    "import arcgis\n",
    "import notebook"
   ]
  },
  {
   "cell_type": "code",
   "execution_count": 2,
   "metadata": {},
   "outputs": [
    {
     "name": "stdout",
     "output_type": "stream",
     "text": [
      "3.5.1\n",
      "7.5.1\n",
      "1.8.0\n",
      "5.7.8\n"
     ]
    }
   ],
   "source": [
    "print(widgetsnbextension.__version__)\n",
    "print(ipywidgets.__version__)\n",
    "print(arcgis.__version__)\n",
    "print(notebook.__version__)"
   ]
  },
  {
   "cell_type": "markdown",
   "metadata": {},
   "source": [
    "### arcgis"
   ]
  },
  {
   "cell_type": "code",
   "execution_count": 3,
   "metadata": {},
   "outputs": [],
   "source": [
    "from arcgis.gis import GIS"
   ]
  },
  {
   "cell_type": "code",
   "execution_count": 4,
   "metadata": {},
   "outputs": [],
   "source": [
    "#MapView.set_js_cdn(\"https://ucsdonline.maps.arcgis.com/jsapi/jsapi4/\")"
   ]
  },
  {
   "cell_type": "code",
   "execution_count": 5,
   "metadata": {},
   "outputs": [
    {
     "data": {
      "application/vnd.jupyter.widget-view+json": {
       "model_id": "5205d86ebdbf4765bf94154fbadfdd06",
       "version_major": 2,
       "version_minor": 0
      },
      "text/plain": [
       "MapView(layout=Layout(height='400px', width='100%'))"
      ]
     },
     "metadata": {},
     "output_type": "display_data"
    },
    {
     "data": {
      "text/html": [
       "<div class=\"map-static-img-preview-f2b29bde-ff9e-44b7-b253-50fd6509cb62\"><img src=\"\"></img></div>"
      ],
      "text/plain": [
       "<IPython.core.display.HTML object>"
      ]
     },
     "metadata": {},
     "output_type": "display_data"
    }
   ],
   "source": [
    "#my_gis = GIS(\"https://ucsdonline.maps.arcgis.com/jsapi/jsapi4\")\n",
    "my_gis = GIS()\n",
    "my_gis.map()"
   ]
  },
  {
   "cell_type": "markdown",
   "metadata": {},
   "source": [
    "### ipyleaflet\n",
    "Sample from <https://github.com/jupyter-widgets/ipyleaflet/blob/master/examples/BaseMap.ipynb>"
   ]
  },
  {
   "cell_type": "code",
   "execution_count": null,
   "metadata": {},
   "outputs": [],
   "source": [
    "from ipyleaflet import *\n",
    "\n",
    "m = Map(center=(52, 10), zoom=8, basemap=basemaps.Hydda.Full)\n",
    "strava_all = basemap_to_tiles(basemaps.Strava.All)\n",
    "m.add_layer(strava_all)\n",
    "m"
   ]
  },
  {
   "cell_type": "code",
   "execution_count": null,
   "metadata": {},
   "outputs": [],
   "source": [
    "ipywidgets.HBox([m, Map(center=[43.6, 1.44], zoom=10)])"
   ]
  },
  {
   "cell_type": "markdown",
   "metadata": {},
   "source": [
    "### mesa_geo\n",
    "Sample from <https://github.com/corvince/mesa-geo/README.md>"
   ]
  },
  {
   "cell_type": "code",
   "execution_count": null,
   "metadata": {},
   "outputs": [],
   "source": [
    "from mesa_geo import GeoSpace, GeoAgent, AgentCreator\n",
    "from mesa import Model\n",
    "import requests\n",
    "url = 'http://eric.clst.org/assets/wiki/uploads/Stuff/gz_2010_us_040_00_20m.json'\n",
    "r = requests.get(url)\n",
    "geojson_states = r.json()\n",
    "\n",
    "class State(GeoAgent):\n",
    "    def __init__(self, unique_id, model, shape):\n",
    "        super().__init__(unique_id, model, shape)\n",
    "\n",
    "class GeoModel(Model):\n",
    "    def __init__(self):\n",
    "        self.grid = GeoSpace()\n",
    "        \n",
    "        state_agent_kwargs = dict(model=self)\n",
    "        AC = AgentCreator(agent_class=State, agent_kwargs=state_agent_kwargs)\n",
    "        agents = AC.from_GeoJSON(GeoJSON=geojson_states, unique_id=\"NAME\")\n",
    "        self.grid.add_agents(agents)\n",
    "\n",
    "m = GeoModel()\n",
    "\n",
    "agent = m.grid.agents[0]\n",
    "print(agent.unique_id)\n",
    "agent.shape"
   ]
  },
  {
   "cell_type": "markdown",
   "metadata": {},
   "source": [
    "### kepler.gl\n",
    "Sample from <https://github.com/keplergl/kepler.gl/blob/master/bindings/kepler.gl-jupyter/notebooks/\n",
    "Load%20kepler.gl.ipynb>"
   ]
  },
  {
   "cell_type": "code",
   "execution_count": null,
   "metadata": {},
   "outputs": [],
   "source": [
    "import pandas as pd\n",
    "df = pd.read_csv('https://raw.githubusercontent.com/keplergl/kepler.gl/master/bindings/kepler.gl-jupyter/notebooks/hex-data.csv')\n",
    "\n",
    "import requests\n",
    "json_data = requests.get('https://raw.githubusercontent.com/keplergl/kepler.gl/master/bindings/kepler.gl-jupyter/notebooks/sf_zip_geo.json').json()\n",
    "\n",
    "config = {u'version': u'v1', u'config': {u'visState': {u'layers': [{u'type': u'hexagonId', u'visualChannels': {u'sizeField': {u'type': u'integer', u'name': u'value'}, u'coverageField': None, u'colorScale': u'quantize', u'coverageScale': u'linear', u'colorField': {u'type': u'integer', u'name': u'value'}, u'sizeScale': u'linear'}, u'config': {u'dataId': u'data_1', u'color': [250, 116, 0], u'textLabel': {u'color': [255, 255, 255], u'field': None, u'size': 50, u'anchor': u'middle', u'offset': [0, 0]}, u'label': u'H3 Hexagon', u'isVisible': True, u'visConfig': {u'coverageRange': [0, 1], u'opacity': 0.8, u'elevationScale': 5, u'hi-precision': False, u'coverage': 1, u'enable3d': True, u'sizeRange': [0, 500], u'colorRange': {u'category': u'Uber', u'type': u'sequential', u'colors': [u'#194266', u'#355C7D', u'#63617F', u'#916681', u'#C06C84', u'#D28389', u'#E59A8F', u'#F8B195'], u'reversed': False, u'name': u'Sunrise 8'}}, u'columns': {u'hex_id': u'hex_id'}}, u'id': u'jdys7lp'}], u'interactionConfig': {u'brush': {u'enabled': False, u'size': 0.5}, u'tooltip': {u'fieldsToShow': {u'data_1': [u'hex_id', u'value']}, u'enabled': True}}, u'splitMaps': [], u'layerBlending': u'normal', u'filters': []}, u'mapState': {u'bearing': 2.6192893401015205, u'dragRotate': True, u'zoom': 12.32053899007826, u'longitude': -122.42590232651203, u'isSplit': False, u'pitch': 37.374216241015446, u'latitude': 37.76209132041332}, u'mapStyle': {u'mapStyles': {}, u'topLayerGroups': {}, u'styleType': u'dark', u'visibleLayerGroups': {u'building': True, u'land': True, u'3d building': False, u'label': True, u'water': True, u'border': False, u'road': True}}}}\n",
    "\n",
    "import keplergl\n",
    "w1 = keplergl.KeplerGl(height=500, data={\"data_1\": df}, config=config)\n",
    "w1"
   ]
  },
  {
   "cell_type": "markdown",
   "metadata": {},
   "source": [
    "### graphviz"
   ]
  },
  {
   "cell_type": "code",
   "execution_count": 1,
   "metadata": {},
   "outputs": [
    {
     "name": "stdout",
     "output_type": "stream",
     "text": [
      "// The Round Table\n",
      "digraph {\n",
      "\tA [label=\"King Arthur\"]\n",
      "\tB [label=\"Sir Bedevere the Wise\"]\n",
      "\tL [label=\"Sir Lancelot the Brave\"]\n",
      "\tA -> B\n",
      "\tA -> L\n",
      "\tB -> L [constraint=false]\n",
      "}\n"
     ]
    },
    {
     "data": {
      "text/plain": [
       "'test-output/round-table.gv.pdf'"
      ]
     },
     "execution_count": 1,
     "metadata": {},
     "output_type": "execute_result"
    }
   ],
   "source": [
    "from graphviz import Digraph\n",
    "dot = Digraph(comment='The Round Table')\n",
    "dot.node('A', 'King Arthur')\n",
    "dot.node('B', 'Sir Bedevere the Wise')\n",
    "dot.node('L', 'Sir Lancelot the Brave')\n",
    "dot.edges(['AB', 'AL'])\n",
    "dot.edge('B', 'L', constraint='false')\n",
    "print(dot.source)\n",
    "dot.render('test-output/round-table.gv', view=True)"
   ]
  }
 ],
 "metadata": {
  "kernelspec": {
   "display_name": "Python 3",
   "language": "python",
   "name": "python3"
  },
  "language_info": {
   "codemirror_mode": {
    "name": "ipython",
    "version": 3
   },
   "file_extension": ".py",
   "mimetype": "text/x-python",
   "name": "python",
   "nbconvert_exporter": "python",
   "pygments_lexer": "ipython3",
   "version": "3.7.6"
  }
 },
 "nbformat": 4,
 "nbformat_minor": 2
}
